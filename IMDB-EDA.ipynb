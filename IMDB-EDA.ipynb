{
 "cells": [
  {
   "cell_type": "code",
   "execution_count": null,
   "id": "7ed9bab4",
   "metadata": {},
   "outputs": [],
   "source": [
    "!pip install -U hopsworks --quiet"
   ]
  },
  {
   "cell_type": "code",
   "execution_count": 1,
   "id": "6a97a070",
   "metadata": {},
   "outputs": [],
   "source": [
    "#Importing Libraries\n",
    "import pandas as pd\n",
    "import numpy as np\n",
    "import warnings\n",
    "warnings.filterwarnings('ignore')\n",
    "\n",
    "import hopsworks"
   ]
  },
  {
   "cell_type": "markdown",
   "id": "572f66ed",
   "metadata": {},
   "source": [
    "## DATA EXPLORATION"
   ]
  },
  {
   "cell_type": "code",
   "execution_count": 2,
   "id": "3803530c",
   "metadata": {},
   "outputs": [
    {
     "data": {
      "text/html": [
       "<div>\n",
       "<style scoped>\n",
       "    .dataframe tbody tr th:only-of-type {\n",
       "        vertical-align: middle;\n",
       "    }\n",
       "\n",
       "    .dataframe tbody tr th {\n",
       "        vertical-align: top;\n",
       "    }\n",
       "\n",
       "    .dataframe thead th {\n",
       "        text-align: right;\n",
       "    }\n",
       "</style>\n",
       "<table border=\"1\" class=\"dataframe\">\n",
       "  <thead>\n",
       "    <tr style=\"text-align: right;\">\n",
       "      <th></th>\n",
       "      <th>id</th>\n",
       "      <th>title</th>\n",
       "      <th>type</th>\n",
       "      <th>description</th>\n",
       "      <th>release_year</th>\n",
       "      <th>age_certification</th>\n",
       "      <th>runtime</th>\n",
       "      <th>genres</th>\n",
       "      <th>production_countries</th>\n",
       "      <th>seasons</th>\n",
       "      <th>imdb_id</th>\n",
       "      <th>imdb_score</th>\n",
       "      <th>imdb_votes</th>\n",
       "      <th>tmdb_popularity</th>\n",
       "      <th>tmdb_score</th>\n",
       "    </tr>\n",
       "  </thead>\n",
       "  <tbody>\n",
       "    <tr>\n",
       "      <th>0</th>\n",
       "      <td>ts300399</td>\n",
       "      <td>Five Came Back: The Reference Films</td>\n",
       "      <td>SHOW</td>\n",
       "      <td>This collection includes 12 World War II-era p...</td>\n",
       "      <td>1945</td>\n",
       "      <td>TV-MA</td>\n",
       "      <td>51</td>\n",
       "      <td>['documentation']</td>\n",
       "      <td>['US']</td>\n",
       "      <td>1.0</td>\n",
       "      <td>NaN</td>\n",
       "      <td>NaN</td>\n",
       "      <td>NaN</td>\n",
       "      <td>0.600</td>\n",
       "      <td>NaN</td>\n",
       "    </tr>\n",
       "    <tr>\n",
       "      <th>1</th>\n",
       "      <td>tm84618</td>\n",
       "      <td>Taxi Driver</td>\n",
       "      <td>MOVIE</td>\n",
       "      <td>A mentally unstable Vietnam War veteran works ...</td>\n",
       "      <td>1976</td>\n",
       "      <td>R</td>\n",
       "      <td>114</td>\n",
       "      <td>['drama', 'crime']</td>\n",
       "      <td>['US']</td>\n",
       "      <td>NaN</td>\n",
       "      <td>tt0075314</td>\n",
       "      <td>8.2</td>\n",
       "      <td>808582.0</td>\n",
       "      <td>40.965</td>\n",
       "      <td>8.179</td>\n",
       "    </tr>\n",
       "    <tr>\n",
       "      <th>2</th>\n",
       "      <td>tm154986</td>\n",
       "      <td>Deliverance</td>\n",
       "      <td>MOVIE</td>\n",
       "      <td>Intent on seeing the Cahulawassee River before...</td>\n",
       "      <td>1972</td>\n",
       "      <td>R</td>\n",
       "      <td>109</td>\n",
       "      <td>['drama', 'action', 'thriller', 'european']</td>\n",
       "      <td>['US']</td>\n",
       "      <td>NaN</td>\n",
       "      <td>tt0068473</td>\n",
       "      <td>7.7</td>\n",
       "      <td>107673.0</td>\n",
       "      <td>10.010</td>\n",
       "      <td>7.300</td>\n",
       "    </tr>\n",
       "    <tr>\n",
       "      <th>3</th>\n",
       "      <td>tm127384</td>\n",
       "      <td>Monty Python and the Holy Grail</td>\n",
       "      <td>MOVIE</td>\n",
       "      <td>King Arthur, accompanied by his squire, recrui...</td>\n",
       "      <td>1975</td>\n",
       "      <td>PG</td>\n",
       "      <td>91</td>\n",
       "      <td>['fantasy', 'action', 'comedy']</td>\n",
       "      <td>['GB']</td>\n",
       "      <td>NaN</td>\n",
       "      <td>tt0071853</td>\n",
       "      <td>8.2</td>\n",
       "      <td>534486.0</td>\n",
       "      <td>15.461</td>\n",
       "      <td>7.811</td>\n",
       "    </tr>\n",
       "  </tbody>\n",
       "</table>\n",
       "</div>"
      ],
      "text/plain": [
       "         id                                title   type  \\\n",
       "0  ts300399  Five Came Back: The Reference Films   SHOW   \n",
       "1   tm84618                          Taxi Driver  MOVIE   \n",
       "2  tm154986                          Deliverance  MOVIE   \n",
       "3  tm127384      Monty Python and the Holy Grail  MOVIE   \n",
       "\n",
       "                                         description  release_year  \\\n",
       "0  This collection includes 12 World War II-era p...          1945   \n",
       "1  A mentally unstable Vietnam War veteran works ...          1976   \n",
       "2  Intent on seeing the Cahulawassee River before...          1972   \n",
       "3  King Arthur, accompanied by his squire, recrui...          1975   \n",
       "\n",
       "  age_certification  runtime                                       genres  \\\n",
       "0             TV-MA       51                            ['documentation']   \n",
       "1                 R      114                           ['drama', 'crime']   \n",
       "2                 R      109  ['drama', 'action', 'thriller', 'european']   \n",
       "3                PG       91              ['fantasy', 'action', 'comedy']   \n",
       "\n",
       "  production_countries  seasons    imdb_id  imdb_score  imdb_votes  \\\n",
       "0               ['US']      1.0        NaN         NaN         NaN   \n",
       "1               ['US']      NaN  tt0075314         8.2    808582.0   \n",
       "2               ['US']      NaN  tt0068473         7.7    107673.0   \n",
       "3               ['GB']      NaN  tt0071853         8.2    534486.0   \n",
       "\n",
       "   tmdb_popularity  tmdb_score  \n",
       "0            0.600         NaN  \n",
       "1           40.965       8.179  \n",
       "2           10.010       7.300  \n",
       "3           15.461       7.811  "
      ]
     },
     "execution_count": 2,
     "metadata": {},
     "output_type": "execute_result"
    }
   ],
   "source": [
    "# Importing the CSV file \n",
    "\n",
    "df = pd.read_csv(\"titles.csv\")\n",
    "df.head(4)"
   ]
  },
  {
   "cell_type": "code",
   "execution_count": 3,
   "id": "c26e72f0",
   "metadata": {},
   "outputs": [
    {
     "data": {
      "text/html": [
       "<div>\n",
       "<style scoped>\n",
       "    .dataframe tbody tr th:only-of-type {\n",
       "        vertical-align: middle;\n",
       "    }\n",
       "\n",
       "    .dataframe tbody tr th {\n",
       "        vertical-align: top;\n",
       "    }\n",
       "\n",
       "    .dataframe thead th {\n",
       "        text-align: right;\n",
       "    }\n",
       "</style>\n",
       "<table border=\"1\" class=\"dataframe\">\n",
       "  <thead>\n",
       "    <tr style=\"text-align: right;\">\n",
       "      <th></th>\n",
       "      <th>id</th>\n",
       "      <th>title</th>\n",
       "      <th>type</th>\n",
       "      <th>description</th>\n",
       "      <th>release_year</th>\n",
       "      <th>age_certification</th>\n",
       "      <th>runtime</th>\n",
       "      <th>genres</th>\n",
       "      <th>production_countries</th>\n",
       "      <th>seasons</th>\n",
       "      <th>imdb_id</th>\n",
       "      <th>imdb_score</th>\n",
       "      <th>imdb_votes</th>\n",
       "      <th>tmdb_popularity</th>\n",
       "      <th>tmdb_score</th>\n",
       "    </tr>\n",
       "  </thead>\n",
       "  <tbody>\n",
       "    <tr>\n",
       "      <th>5845</th>\n",
       "      <td>tm1014599</td>\n",
       "      <td>Fine Wine</td>\n",
       "      <td>MOVIE</td>\n",
       "      <td>A beautiful love story that can happen between...</td>\n",
       "      <td>2021</td>\n",
       "      <td>NaN</td>\n",
       "      <td>100</td>\n",
       "      <td>['romance', 'drama']</td>\n",
       "      <td>['NG']</td>\n",
       "      <td>NaN</td>\n",
       "      <td>tt13857480</td>\n",
       "      <td>6.8</td>\n",
       "      <td>45.0</td>\n",
       "      <td>1.466</td>\n",
       "      <td>NaN</td>\n",
       "    </tr>\n",
       "    <tr>\n",
       "      <th>5846</th>\n",
       "      <td>tm898842</td>\n",
       "      <td>C/O Kaadhal</td>\n",
       "      <td>MOVIE</td>\n",
       "      <td>A heart warming film that explores the concept...</td>\n",
       "      <td>2021</td>\n",
       "      <td>NaN</td>\n",
       "      <td>134</td>\n",
       "      <td>['drama']</td>\n",
       "      <td>[]</td>\n",
       "      <td>NaN</td>\n",
       "      <td>tt11803618</td>\n",
       "      <td>7.7</td>\n",
       "      <td>348.0</td>\n",
       "      <td>NaN</td>\n",
       "      <td>NaN</td>\n",
       "    </tr>\n",
       "    <tr>\n",
       "      <th>5847</th>\n",
       "      <td>tm1059008</td>\n",
       "      <td>Lokillo</td>\n",
       "      <td>MOVIE</td>\n",
       "      <td>A controversial TV host and comedian who has b...</td>\n",
       "      <td>2021</td>\n",
       "      <td>NaN</td>\n",
       "      <td>90</td>\n",
       "      <td>['comedy']</td>\n",
       "      <td>['CO']</td>\n",
       "      <td>NaN</td>\n",
       "      <td>tt14585902</td>\n",
       "      <td>3.8</td>\n",
       "      <td>68.0</td>\n",
       "      <td>26.005</td>\n",
       "      <td>6.3</td>\n",
       "    </tr>\n",
       "    <tr>\n",
       "      <th>5848</th>\n",
       "      <td>tm1035612</td>\n",
       "      <td>Dad Stop Embarrassing Me - The Afterparty</td>\n",
       "      <td>MOVIE</td>\n",
       "      <td>Jamie Foxx, David Alan Grier and more from the...</td>\n",
       "      <td>2021</td>\n",
       "      <td>PG-13</td>\n",
       "      <td>37</td>\n",
       "      <td>[]</td>\n",
       "      <td>['US']</td>\n",
       "      <td>NaN</td>\n",
       "      <td>NaN</td>\n",
       "      <td>NaN</td>\n",
       "      <td>NaN</td>\n",
       "      <td>1.296</td>\n",
       "      <td>10.0</td>\n",
       "    </tr>\n",
       "    <tr>\n",
       "      <th>5849</th>\n",
       "      <td>ts271048</td>\n",
       "      <td>Mighty Little Bheem: Kite Festival</td>\n",
       "      <td>SHOW</td>\n",
       "      <td>With winter behind them, Bheem and his townspe...</td>\n",
       "      <td>2021</td>\n",
       "      <td>NaN</td>\n",
       "      <td>7</td>\n",
       "      <td>['family', 'animation', 'comedy']</td>\n",
       "      <td>[]</td>\n",
       "      <td>1.0</td>\n",
       "      <td>tt13711094</td>\n",
       "      <td>7.8</td>\n",
       "      <td>18.0</td>\n",
       "      <td>2.289</td>\n",
       "      <td>10.0</td>\n",
       "    </tr>\n",
       "  </tbody>\n",
       "</table>\n",
       "</div>"
      ],
      "text/plain": [
       "             id                                      title   type  \\\n",
       "5845  tm1014599                                  Fine Wine  MOVIE   \n",
       "5846   tm898842                                C/O Kaadhal  MOVIE   \n",
       "5847  tm1059008                                    Lokillo  MOVIE   \n",
       "5848  tm1035612  Dad Stop Embarrassing Me - The Afterparty  MOVIE   \n",
       "5849   ts271048         Mighty Little Bheem: Kite Festival   SHOW   \n",
       "\n",
       "                                            description  release_year  \\\n",
       "5845  A beautiful love story that can happen between...          2021   \n",
       "5846  A heart warming film that explores the concept...          2021   \n",
       "5847  A controversial TV host and comedian who has b...          2021   \n",
       "5848  Jamie Foxx, David Alan Grier and more from the...          2021   \n",
       "5849  With winter behind them, Bheem and his townspe...          2021   \n",
       "\n",
       "     age_certification  runtime                             genres  \\\n",
       "5845               NaN      100               ['romance', 'drama']   \n",
       "5846               NaN      134                          ['drama']   \n",
       "5847               NaN       90                         ['comedy']   \n",
       "5848             PG-13       37                                 []   \n",
       "5849               NaN        7  ['family', 'animation', 'comedy']   \n",
       "\n",
       "     production_countries  seasons     imdb_id  imdb_score  imdb_votes  \\\n",
       "5845               ['NG']      NaN  tt13857480         6.8        45.0   \n",
       "5846                   []      NaN  tt11803618         7.7       348.0   \n",
       "5847               ['CO']      NaN  tt14585902         3.8        68.0   \n",
       "5848               ['US']      NaN         NaN         NaN         NaN   \n",
       "5849                   []      1.0  tt13711094         7.8        18.0   \n",
       "\n",
       "      tmdb_popularity  tmdb_score  \n",
       "5845            1.466         NaN  \n",
       "5846              NaN         NaN  \n",
       "5847           26.005         6.3  \n",
       "5848            1.296        10.0  \n",
       "5849            2.289        10.0  "
      ]
     },
     "execution_count": 3,
     "metadata": {},
     "output_type": "execute_result"
    }
   ],
   "source": [
    "df.tail()"
   ]
  },
  {
   "cell_type": "code",
   "execution_count": 4,
   "id": "783f7d9f",
   "metadata": {},
   "outputs": [
    {
     "name": "stdout",
     "output_type": "stream",
     "text": [
      "<class 'pandas.core.frame.DataFrame'>\n",
      "RangeIndex: 5850 entries, 0 to 5849\n",
      "Data columns (total 15 columns):\n",
      " #   Column                Non-Null Count  Dtype  \n",
      "---  ------                --------------  -----  \n",
      " 0   id                    5850 non-null   object \n",
      " 1   title                 5849 non-null   object \n",
      " 2   type                  5850 non-null   object \n",
      " 3   description           5832 non-null   object \n",
      " 4   release_year          5850 non-null   int64  \n",
      " 5   age_certification     3231 non-null   object \n",
      " 6   runtime               5850 non-null   int64  \n",
      " 7   genres                5850 non-null   object \n",
      " 8   production_countries  5850 non-null   object \n",
      " 9   seasons               2106 non-null   float64\n",
      " 10  imdb_id               5447 non-null   object \n",
      " 11  imdb_score            5368 non-null   float64\n",
      " 12  imdb_votes            5352 non-null   float64\n",
      " 13  tmdb_popularity       5759 non-null   float64\n",
      " 14  tmdb_score            5539 non-null   float64\n",
      "dtypes: float64(5), int64(2), object(8)\n",
      "memory usage: 685.7+ KB\n"
     ]
    }
   ],
   "source": [
    "#Getting the information regarding our datset to know how much null values are there..\n",
    "df.info()"
   ]
  },
  {
   "cell_type": "code",
   "execution_count": 5,
   "id": "94ab0401",
   "metadata": {},
   "outputs": [
    {
     "data": {
      "text/plain": [
       "(5850, 15)"
      ]
     },
     "execution_count": 5,
     "metadata": {},
     "output_type": "execute_result"
    }
   ],
   "source": [
    "df.shape"
   ]
  },
  {
   "cell_type": "code",
   "execution_count": 6,
   "id": "cc315d2c",
   "metadata": {},
   "outputs": [
    {
     "data": {
      "text/plain": [
       "id                         0\n",
       "title                      1\n",
       "type                       0\n",
       "description               18\n",
       "release_year               0\n",
       "age_certification       2619\n",
       "runtime                    0\n",
       "genres                     0\n",
       "production_countries       0\n",
       "seasons                 3744\n",
       "imdb_id                  403\n",
       "imdb_score               482\n",
       "imdb_votes               498\n",
       "tmdb_popularity           91\n",
       "tmdb_score               311\n",
       "dtype: int64"
      ]
     },
     "execution_count": 6,
     "metadata": {},
     "output_type": "execute_result"
    }
   ],
   "source": [
    "df.isnull().sum()"
   ]
  },
  {
   "cell_type": "code",
   "execution_count": 7,
   "id": "6d272ad1",
   "metadata": {},
   "outputs": [
    {
     "data": {
      "text/plain": [
       "Index(['id', 'title', 'type', 'description', 'release_year',\n",
       "       'age_certification', 'runtime', 'genres', 'production_countries',\n",
       "       'seasons', 'imdb_id', 'imdb_score', 'imdb_votes', 'tmdb_popularity',\n",
       "       'tmdb_score'],\n",
       "      dtype='object')"
      ]
     },
     "execution_count": 7,
     "metadata": {},
     "output_type": "execute_result"
    }
   ],
   "source": [
    "df.columns"
   ]
  },
  {
   "cell_type": "markdown",
   "id": "7a5f46cf",
   "metadata": {},
   "source": [
    "## Feature Engineering"
   ]
  },
  {
   "cell_type": "code",
   "execution_count": 8,
   "id": "c51e73ab",
   "metadata": {},
   "outputs": [
    {
     "data": {
      "text/html": [
       "<div>\n",
       "<style scoped>\n",
       "    .dataframe tbody tr th:only-of-type {\n",
       "        vertical-align: middle;\n",
       "    }\n",
       "\n",
       "    .dataframe tbody tr th {\n",
       "        vertical-align: top;\n",
       "    }\n",
       "\n",
       "    .dataframe thead th {\n",
       "        text-align: right;\n",
       "    }\n",
       "</style>\n",
       "<table border=\"1\" class=\"dataframe\">\n",
       "  <thead>\n",
       "    <tr style=\"text-align: right;\">\n",
       "      <th></th>\n",
       "      <th>id</th>\n",
       "      <th>title</th>\n",
       "      <th>type</th>\n",
       "      <th>release_year</th>\n",
       "      <th>age_certification</th>\n",
       "      <th>runtime</th>\n",
       "      <th>genres</th>\n",
       "      <th>production_countries</th>\n",
       "      <th>seasons</th>\n",
       "      <th>imdb_score</th>\n",
       "      <th>imdb_votes</th>\n",
       "      <th>tmdb_popularity</th>\n",
       "      <th>tmdb_score</th>\n",
       "    </tr>\n",
       "  </thead>\n",
       "  <tbody>\n",
       "    <tr>\n",
       "      <th>0</th>\n",
       "      <td>ts300399</td>\n",
       "      <td>Five Came Back: The Reference Films</td>\n",
       "      <td>SHOW</td>\n",
       "      <td>1945</td>\n",
       "      <td>TV-MA</td>\n",
       "      <td>51</td>\n",
       "      <td>['documentation']</td>\n",
       "      <td>['US']</td>\n",
       "      <td>1.0</td>\n",
       "      <td>NaN</td>\n",
       "      <td>NaN</td>\n",
       "      <td>0.600</td>\n",
       "      <td>NaN</td>\n",
       "    </tr>\n",
       "    <tr>\n",
       "      <th>1</th>\n",
       "      <td>tm84618</td>\n",
       "      <td>Taxi Driver</td>\n",
       "      <td>MOVIE</td>\n",
       "      <td>1976</td>\n",
       "      <td>R</td>\n",
       "      <td>114</td>\n",
       "      <td>['drama', 'crime']</td>\n",
       "      <td>['US']</td>\n",
       "      <td>NaN</td>\n",
       "      <td>8.2</td>\n",
       "      <td>808582.0</td>\n",
       "      <td>40.965</td>\n",
       "      <td>8.179</td>\n",
       "    </tr>\n",
       "    <tr>\n",
       "      <th>2</th>\n",
       "      <td>tm154986</td>\n",
       "      <td>Deliverance</td>\n",
       "      <td>MOVIE</td>\n",
       "      <td>1972</td>\n",
       "      <td>R</td>\n",
       "      <td>109</td>\n",
       "      <td>['drama', 'action', 'thriller', 'european']</td>\n",
       "      <td>['US']</td>\n",
       "      <td>NaN</td>\n",
       "      <td>7.7</td>\n",
       "      <td>107673.0</td>\n",
       "      <td>10.010</td>\n",
       "      <td>7.300</td>\n",
       "    </tr>\n",
       "    <tr>\n",
       "      <th>3</th>\n",
       "      <td>tm127384</td>\n",
       "      <td>Monty Python and the Holy Grail</td>\n",
       "      <td>MOVIE</td>\n",
       "      <td>1975</td>\n",
       "      <td>PG</td>\n",
       "      <td>91</td>\n",
       "      <td>['fantasy', 'action', 'comedy']</td>\n",
       "      <td>['GB']</td>\n",
       "      <td>NaN</td>\n",
       "      <td>8.2</td>\n",
       "      <td>534486.0</td>\n",
       "      <td>15.461</td>\n",
       "      <td>7.811</td>\n",
       "    </tr>\n",
       "    <tr>\n",
       "      <th>4</th>\n",
       "      <td>tm120801</td>\n",
       "      <td>The Dirty Dozen</td>\n",
       "      <td>MOVIE</td>\n",
       "      <td>1967</td>\n",
       "      <td>NaN</td>\n",
       "      <td>150</td>\n",
       "      <td>['war', 'action']</td>\n",
       "      <td>['GB', 'US']</td>\n",
       "      <td>NaN</td>\n",
       "      <td>7.7</td>\n",
       "      <td>72662.0</td>\n",
       "      <td>20.398</td>\n",
       "      <td>7.600</td>\n",
       "    </tr>\n",
       "  </tbody>\n",
       "</table>\n",
       "</div>"
      ],
      "text/plain": [
       "         id                                title   type  release_year  \\\n",
       "0  ts300399  Five Came Back: The Reference Films   SHOW          1945   \n",
       "1   tm84618                          Taxi Driver  MOVIE          1976   \n",
       "2  tm154986                          Deliverance  MOVIE          1972   \n",
       "3  tm127384      Monty Python and the Holy Grail  MOVIE          1975   \n",
       "4  tm120801                      The Dirty Dozen  MOVIE          1967   \n",
       "\n",
       "  age_certification  runtime                                       genres  \\\n",
       "0             TV-MA       51                            ['documentation']   \n",
       "1                 R      114                           ['drama', 'crime']   \n",
       "2                 R      109  ['drama', 'action', 'thriller', 'european']   \n",
       "3                PG       91              ['fantasy', 'action', 'comedy']   \n",
       "4               NaN      150                            ['war', 'action']   \n",
       "\n",
       "  production_countries  seasons  imdb_score  imdb_votes  tmdb_popularity  \\\n",
       "0               ['US']      1.0         NaN         NaN            0.600   \n",
       "1               ['US']      NaN         8.2    808582.0           40.965   \n",
       "2               ['US']      NaN         7.7    107673.0           10.010   \n",
       "3               ['GB']      NaN         8.2    534486.0           15.461   \n",
       "4         ['GB', 'US']      NaN         7.7     72662.0           20.398   \n",
       "\n",
       "   tmdb_score  \n",
       "0         NaN  \n",
       "1       8.179  \n",
       "2       7.300  \n",
       "3       7.811  \n",
       "4       7.600  "
      ]
     },
     "execution_count": 8,
     "metadata": {},
     "output_type": "execute_result"
    }
   ],
   "source": [
    "# Dropping the unnecessary columns \n",
    "\n",
    "df=df.drop([\"description\",\"imdb_id\"],axis=1)\n",
    "df.head()"
   ]
  },
  {
   "cell_type": "code",
   "execution_count": 9,
   "id": "315edfa6",
   "metadata": {},
   "outputs": [
    {
     "data": {
      "text/plain": [
       "array([1945, 1976, 1972, 1975, 1967, 1969, 1979, 1971, 1980, 1961, 1966,\n",
       "       1954, 1958, 1977, 1963, 1956, 1960, 1973, 1974, 1959, 1978, 1989,\n",
       "       1990, 1987, 1984, 1983, 1982, 1986, 1981, 1988, 1985, 2000, 1996,\n",
       "       1997, 1995, 1994, 1999, 1998, 1993, 1992, 1991, 2008, 2002, 2010,\n",
       "       2005, 2007, 2004, 2006, 2009, 2003, 2001, 2011, 2012, 2013, 2014,\n",
       "       2015, 2016, 2018, 2017, 2019, 2020, 2022, 2021])"
      ]
     },
     "execution_count": 9,
     "metadata": {},
     "output_type": "execute_result"
    }
   ],
   "source": [
    "# AS here we got to know that there are too many unique values for the release_year column so we will be shortening it\n",
    "\n",
    "df[\"release_year\"].unique()"
   ]
  },
  {
   "cell_type": "code",
   "execution_count": 10,
   "id": "0acfbecc",
   "metadata": {},
   "outputs": [
    {
     "data": {
      "text/plain": [
       "2019           836\n",
       "2020           814\n",
       "2021           787\n",
       "2018           773\n",
       "Before 2012    726\n",
       "2017           563\n",
       "2022           371\n",
       "2016           362\n",
       "2015           223\n",
       "2014           153\n",
       "2013           135\n",
       "2012           107\n",
       "Name: release_year, dtype: int64"
      ]
     },
     "execution_count": 10,
     "metadata": {},
     "output_type": "execute_result"
    }
   ],
   "source": [
    "#Cleaning our \"Year\" column as there are too much unique values \n",
    "# We will be making a new variable which will be conataining years that have less than 100 movie/show relaesed \n",
    "# and we noticed that these all were before 2012\n",
    "\n",
    "year=df[\"release_year\"].value_counts()\n",
    "yearless100=year[year<100]\n",
    "\n",
    "def handle_year(value):\n",
    "    if value in yearless100:\n",
    "        return \"Before 2012\"\n",
    "    else:\n",
    "        return value\n",
    "df[\"release_year\"]=df[\"release_year\"].apply(handle_year)\n",
    "df[\"release_year\"].value_counts()"
   ]
  },
  {
   "cell_type": "code",
   "execution_count": 11,
   "id": "594ca366",
   "metadata": {},
   "outputs": [],
   "source": [
    "#Renaming ourn Column because it's name is too long to type again and again\n",
    "\n",
    "df=df.rename(columns={\"age_certification\":\"age\"})"
   ]
  },
  {
   "cell_type": "code",
   "execution_count": 12,
   "id": "552758e9",
   "metadata": {},
   "outputs": [
    {
     "data": {
      "text/plain": [
       "array(['TV-MA', 'R', 'PG', 'Not Rated', 'TV-14', 'PG-13', 'TV-PG', 'TV-Y',\n",
       "       'TV-G', 'TV-Y7', 'G', 'NC-17'], dtype=object)"
      ]
     },
     "execution_count": 12,
     "metadata": {},
     "output_type": "execute_result"
    }
   ],
   "source": [
    "#Replacing the null values in Age Restriction column with \"Not Rated \" as we cant drop this much of data\n",
    "\n",
    "df[\"age\"].unique()\n",
    "df[\"age\"].isnull().sum()\n",
    "\n",
    "df[\"age\"]=df[\"age\"].fillna(\"Not Rated\")\n",
    "df[\"age\"].unique()"
   ]
  },
  {
   "cell_type": "code",
   "execution_count": 13,
   "id": "5022cc02",
   "metadata": {},
   "outputs": [
    {
     "data": {
      "text/plain": [
       "array([ 1.,  0.,  4.,  9., 24.,  5., 39., 10., 13., 42., 25., 21., 37.,\n",
       "        8., 29.,  7., 11., 14., 12.,  6., 32., 15., 19.,  2., 20.,  3.,\n",
       "       16.])"
      ]
     },
     "execution_count": 13,
     "metadata": {},
     "output_type": "execute_result"
    }
   ],
   "source": [
    "'''Replacing null values in Seasons column with \"0\" as mainly movies have null values and we know movies \n",
    "dont have any seasons so we will replace it with \"0\" instead of dropping them as we cant drop this much of \n",
    "data as movie occupies more than half of data'''\n",
    "\n",
    "\n",
    "df[\"seasons\"].isnull().sum()\n",
    "df[\"seasons\"].unique()\n",
    "\n",
    "df[\"seasons\"]=df[\"seasons\"].fillna(0)\n",
    "df[\"seasons\"].unique()"
   ]
  },
  {
   "cell_type": "code",
   "execution_count": 14,
   "id": "645f5ce4",
   "metadata": {},
   "outputs": [
    {
     "data": {
      "text/plain": [
       "0"
      ]
     },
     "execution_count": 14,
     "metadata": {},
     "output_type": "execute_result"
    }
   ],
   "source": [
    "'''Title column have only one null value so we can drop that data '''\n",
    "\n",
    "df = df[~df[\"title\"].isnull()]\n",
    "df[\"title\"].isnull().sum()"
   ]
  },
  {
   "cell_type": "code",
   "execution_count": 15,
   "id": "fb3240b3",
   "metadata": {},
   "outputs": [
    {
     "data": {
      "text/plain": [
       "497"
      ]
     },
     "execution_count": 15,
     "metadata": {},
     "output_type": "execute_result"
    }
   ],
   "source": [
    "'''Replacing null values in below three columns with their mean values'''\n",
    "# We can do that seperately also but to save our time we did this ...!\n",
    "\n",
    "three_col=df[[\"imdb_score\",\"tmdb_popularity\",\"tmdb_score\"]]\n",
    "df[[\"imdb_score\",\"tmdb_popularity\",\"tmdb_score\"]]=three_col.apply(lambda x : x.fillna(np.mean(x)))\n",
    "df[\"imdb_votes\"].isnull().sum()"
   ]
  },
  {
   "cell_type": "code",
   "execution_count": 16,
   "id": "a9ea2a2c",
   "metadata": {},
   "outputs": [
    {
     "name": "stderr",
     "output_type": "stream",
     "text": [
      "DeprecationWarning: np.find_common_type is deprecated.  Please use `np.result_type` or `np.promote_types`.\n",
      "See https://numpy.org/devdocs/release/1.25.0-notes.html and the docs for more information.  (Deprecated NumPy 1.25)\n"
     ]
    },
    {
     "data": {
      "text/plain": [
       "0"
      ]
     },
     "execution_count": 16,
     "metadata": {},
     "output_type": "execute_result"
    }
   ],
   "source": [
    "# Replacing the null values in IMDB votes column with \"Not voted\" as here we can't do mean and other\n",
    "# arthimetic operations as giving a movie voting cant be decided by votes of other movies\n",
    "\n",
    "df[\"imdb_votes\"].value_counts()\n",
    "df[\"imdb_votes\"].fillna(\"Not Voted\",inplace=True)\n",
    "df[\"imdb_votes\"].isnull().sum()"
   ]
  },
  {
   "cell_type": "code",
   "execution_count": 17,
   "id": "bffd91a3",
   "metadata": {},
   "outputs": [
    {
     "name": "stdout",
     "output_type": "stream",
     "text": [
      "<class 'pandas.core.frame.DataFrame'>\n",
      "Int64Index: 5849 entries, 0 to 5849\n",
      "Data columns (total 13 columns):\n",
      " #   Column                Non-Null Count  Dtype  \n",
      "---  ------                --------------  -----  \n",
      " 0   id                    5849 non-null   object \n",
      " 1   title                 5849 non-null   object \n",
      " 2   type                  5849 non-null   object \n",
      " 3   release_year          5849 non-null   object \n",
      " 4   age                   5849 non-null   object \n",
      " 5   runtime               5849 non-null   int64  \n",
      " 6   genres                5849 non-null   object \n",
      " 7   production_countries  5849 non-null   object \n",
      " 8   seasons               5849 non-null   float64\n",
      " 9   imdb_score            5849 non-null   float64\n",
      " 10  imdb_votes            5849 non-null   object \n",
      " 11  tmdb_popularity       5849 non-null   float64\n",
      " 12  tmdb_score            5849 non-null   float64\n",
      "dtypes: float64(4), int64(1), object(8)\n",
      "memory usage: 639.7+ KB\n"
     ]
    }
   ],
   "source": [
    "#DONE we have cleaned our data there are no null values in our data \n",
    "#                      Bingoooo  !!!!!!\n",
    "df.info()"
   ]
  },
  {
   "cell_type": "code",
   "execution_count": 18,
   "id": "3a78cb8c",
   "metadata": {},
   "outputs": [
    {
     "data": {
      "text/plain": [
       "id                      0\n",
       "title                   0\n",
       "type                    0\n",
       "release_year            0\n",
       "age                     0\n",
       "runtime                 0\n",
       "genres                  0\n",
       "production_countries    0\n",
       "seasons                 0\n",
       "imdb_score              0\n",
       "imdb_votes              0\n",
       "tmdb_popularity         0\n",
       "tmdb_score              0\n",
       "dtype: int64"
      ]
     },
     "execution_count": 18,
     "metadata": {},
     "output_type": "execute_result"
    }
   ],
   "source": [
    "df.isnull().sum()"
   ]
  },
  {
   "cell_type": "code",
   "execution_count": 19,
   "id": "aa6b6a12",
   "metadata": {
    "scrolled": true
   },
   "outputs": [],
   "source": [
    "df[\"id\"] = df.id.astype(str)\n",
    "df[\"title\"] = df.title.astype(str)\n",
    "df[\"type\"] = df.type.astype(str)\n",
    "df[\"release_year\"] = df.release_year.astype(str)\n",
    "df[\"age\"] = df.age.astype(str)\n",
    "df[\"runtime\"] = df.runtime.astype(int) \n",
    "df[\"genres\"] = df.genres.astype(str)\n",
    "df[\"production_countries\"] = df.production_countries.astype(str)\n",
    "df[\"seasons\"] = df.seasons.astype(float)\n",
    "df[\"imdb_score\"] = df.imdb_score.astype(float)\n",
    "df[\"imdb_votes\"] = df.imdb_votes.astype(str)\n",
    "df[\"tmdb_popularity\"] = df.tmdb_popularity.astype(float) \n",
    "df[\"tmdb_score\"] = df.tmdb_score.astype(float) "
   ]
  },
  {
   "cell_type": "markdown",
   "id": "75d75b2f",
   "metadata": {},
   "source": [
    "## Creating Feature Groups"
   ]
  },
  {
   "cell_type": "code",
   "execution_count": 20,
   "id": "655bcac1",
   "metadata": {},
   "outputs": [
    {
     "name": "stdout",
     "output_type": "stream",
     "text": [
      "Connected. Call `.close()` to terminate connection gracefully.\n",
      "\n",
      "Logged in to project, explore it here https://c.app.hopsworks.ai:443/p/58521\n",
      "Connected. Call `.close()` to terminate connection gracefully.\n"
     ]
    }
   ],
   "source": [
    "# Before you can create a feature group you need to connect to Hopsworks feature store.\n",
    "\n",
    "project = hopsworks.login()\n",
    "\n",
    "fs = project.get_feature_store()"
   ]
  },
  {
   "cell_type": "code",
   "execution_count": 123,
   "id": "7e604df2",
   "metadata": {},
   "outputs": [],
   "source": [
    "# To create a feature group you need to give it a name and specify a primary key. \n",
    "# It is also good to provide a description of the contents of the feature group.\n",
    "\n",
    "Imdb_data_fg = fs.create_feature_group(\n",
    "    name=\"imdb_data_feature\",\n",
    "    version=1,\n",
    "    description=\"This contains the features for the IMDb data\",\n",
    "    primary_key=['title'],\n",
    ")"
   ]
  },
  {
   "cell_type": "code",
   "execution_count": 124,
   "id": "8c121e30",
   "metadata": {},
   "outputs": [
    {
     "name": "stdout",
     "output_type": "stream",
     "text": [
      "Feature Group created successfully, explore it at \n",
      "https://c.app.hopsworks.ai:443/p/58521/fs/57417/fg/74177\n"
     ]
    },
    {
     "data": {
      "application/vnd.jupyter.widget-view+json": {
       "model_id": "5bb396e88b4345af8c972f4c8987cced",
       "version_major": 2,
       "version_minor": 0
      },
      "text/plain": [
       "Uploading Dataframe: 0.00% |          | Rows 0/5849 | Elapsed Time: 00:00 | Remaining Time: ?"
      ]
     },
     "metadata": {},
     "output_type": "display_data"
    },
    {
     "name": "stdout",
     "output_type": "stream",
     "text": [
      "Launching job: imdb_data_feature_1_offline_fg_backfill\n",
      "Job started successfully, you can follow the progress at \n",
      "https://c.app.hopsworks.ai/p/58521/jobs/named/imdb_data_feature_1_offline_fg_backfill/executions\n"
     ]
    },
    {
     "data": {
      "text/plain": [
       "(<hsfs.core.job.Job at 0x12a7cc550>, None)"
      ]
     },
     "execution_count": 124,
     "metadata": {},
     "output_type": "execute_result"
    }
   ],
   "source": [
    "Imdb_data_fg.insert(df, write_options={\"wait_for_job\": False})"
   ]
  },
  {
   "cell_type": "code",
   "execution_count": 117,
   "id": "0120812d",
   "metadata": {},
   "outputs": [],
   "source": [
    "feature_descriptions = [\n",
    "    {\"name\": \"title\", \"description\": \"Movie title\"}, \n",
    "    {\"name\": \"type\", \"description\": \"Type of the movie\"}, \n",
    "    {\"name\": \"release_year\", \"description\": \"The year when the movie was released\"}, \n",
    "    {\"name\": \"age\", \"description\": \"This is the age range for the people who can watch the movie\"}, \n",
    "    {\"name\": \"runtime\", \"description\": \"Total time to watch the entire movie\"}, \n",
    "    {\"name\": \"genres\", \"description\": \"Categories that define the movie\"}, \n",
    "    {\"name\": \"production_countries\", \"description\": \"Countries where the movie was filmed\"},\n",
    "    {\"name\": \"seasons\", \"description\": \"Describes how many seasons the movie has\"}, \n",
    "    {\"name\": \"imdb_score\", \"description\": \"Describes the rating score on the movie on IMBd\"}, \n",
    "    {\"name\": \"imdb_votes\", \"description\": \"Votes of the IMBd registered users about the movie\"}, \n",
    "    {\"name\": \"tmdb_popularity\", \"description\": \"Describes the popularity of the movie on The Movie Database\"}, \n",
    "    {\"name\": \"tmdb_score\", \"description\": \"Describes the popularity score of the movie on The Movie Database\"}, \n",
    "]\n",
    "\n",
    "for desc in feature_descriptions: \n",
    "    imdb_data_fg.update_feature_description(desc[\"name\"], desc[\"description\"])"
   ]
  },
  {
   "cell_type": "code",
   "execution_count": 21,
   "id": "429e3863",
   "metadata": {},
   "outputs": [],
   "source": [
    "# Retreve data from the feature group\n",
    "fg = fs.get_feature_group(\n",
    "        name=\"imdb_data_feature\",\n",
    "        version=1,\n",
    "    )"
   ]
  },
  {
   "cell_type": "code",
   "execution_count": 22,
   "id": "fe0267bc",
   "metadata": {},
   "outputs": [
    {
     "data": {
      "text/plain": [
       "'imdb_data_feature'"
      ]
     },
     "execution_count": 22,
     "metadata": {},
     "output_type": "execute_result"
    }
   ],
   "source": [
    "fg.name"
   ]
  },
  {
   "cell_type": "code",
   "execution_count": 27,
   "id": "48a800f8",
   "metadata": {},
   "outputs": [
    {
     "data": {
      "text/plain": [
       "'This contains the features for the IMDb data'"
      ]
     },
     "execution_count": 27,
     "metadata": {},
     "output_type": "execute_result"
    }
   ],
   "source": [
    "fg.description"
   ]
  },
  {
   "cell_type": "code",
   "execution_count": 49,
   "id": "89e14603",
   "metadata": {},
   "outputs": [
    {
     "data": {
      "text/plain": [
       "['title']"
      ]
     },
     "execution_count": 49,
     "metadata": {},
     "output_type": "execute_result"
    }
   ],
   "source": [
    "fg.primary_key"
   ]
  },
  {
   "cell_type": "code",
   "execution_count": 28,
   "id": "414905fc",
   "metadata": {},
   "outputs": [
    {
     "data": {
      "text/plain": [
       "Feature('seasons', 'double', None, False, False, None, None, 74177)"
      ]
     },
     "execution_count": 28,
     "metadata": {},
     "output_type": "execute_result"
    }
   ],
   "source": [
    "fg.seasons"
   ]
  },
  {
   "cell_type": "code",
   "execution_count": 50,
   "id": "d60c7cfe",
   "metadata": {},
   "outputs": [
    {
     "data": {
      "text/plain": [
       "Feature('title', 'string', None, True, False, None, None, 74177)"
      ]
     },
     "execution_count": 50,
     "metadata": {},
     "output_type": "execute_result"
    }
   ],
   "source": [
    "fg.title"
   ]
  },
  {
   "cell_type": "code",
   "execution_count": 29,
   "id": "0867953b",
   "metadata": {},
   "outputs": [
    {
     "name": "stdout",
     "output_type": "stream",
     "text": [
      "2023-07-06 13:24:46,511 INFO: USE `unicorn_featurestore`\n",
      "2023-07-06 13:24:47,287 INFO: SELECT `fg0`.`id` `id`, `fg0`.`title` `title`, `fg0`.`type` `type`, `fg0`.`release_year` `release_year`, `fg0`.`age` `age`, `fg0`.`runtime` `runtime`, `fg0`.`genres` `genres`, `fg0`.`production_countries` `production_countries`, `fg0`.`seasons` `seasons`, `fg0`.`imdb_score` `imdb_score`, `fg0`.`imdb_votes` `imdb_votes`, `fg0`.`tmdb_popularity` `tmdb_popularity`, `fg0`.`tmdb_score` `tmdb_score`\n",
      "FROM `unicorn_featurestore`.`imdb_data_feature_1` `fg0`\n"
     ]
    },
    {
     "data": {
      "text/html": [
       "<div>\n",
       "<style scoped>\n",
       "    .dataframe tbody tr th:only-of-type {\n",
       "        vertical-align: middle;\n",
       "    }\n",
       "\n",
       "    .dataframe tbody tr th {\n",
       "        vertical-align: top;\n",
       "    }\n",
       "\n",
       "    .dataframe thead th {\n",
       "        text-align: right;\n",
       "    }\n",
       "</style>\n",
       "<table border=\"1\" class=\"dataframe\">\n",
       "  <thead>\n",
       "    <tr style=\"text-align: right;\">\n",
       "      <th></th>\n",
       "      <th>id</th>\n",
       "      <th>title</th>\n",
       "      <th>type</th>\n",
       "      <th>release_year</th>\n",
       "      <th>age</th>\n",
       "      <th>runtime</th>\n",
       "      <th>genres</th>\n",
       "      <th>production_countries</th>\n",
       "      <th>seasons</th>\n",
       "      <th>imdb_score</th>\n",
       "      <th>imdb_votes</th>\n",
       "      <th>tmdb_popularity</th>\n",
       "      <th>tmdb_score</th>\n",
       "    </tr>\n",
       "  </thead>\n",
       "  <tbody>\n",
       "    <tr>\n",
       "      <th>0</th>\n",
       "      <td>tm35463</td>\n",
       "      <td>Blow</td>\n",
       "      <td>MOVIE</td>\n",
       "      <td>Before 2012</td>\n",
       "      <td>R</td>\n",
       "      <td>124</td>\n",
       "      <td>['crime', 'drama']</td>\n",
       "      <td>['US']</td>\n",
       "      <td>0.0</td>\n",
       "      <td>7.500000</td>\n",
       "      <td>258431.0</td>\n",
       "      <td>24.348</td>\n",
       "      <td>7.400</td>\n",
       "    </tr>\n",
       "    <tr>\n",
       "      <th>1</th>\n",
       "      <td>ts55982</td>\n",
       "      <td>Anne with an E</td>\n",
       "      <td>SHOW</td>\n",
       "      <td>2017</td>\n",
       "      <td>TV-G</td>\n",
       "      <td>46</td>\n",
       "      <td>['drama', 'family']</td>\n",
       "      <td>['CA']</td>\n",
       "      <td>3.0</td>\n",
       "      <td>8.700000</td>\n",
       "      <td>52756.0</td>\n",
       "      <td>150.370</td>\n",
       "      <td>8.800</td>\n",
       "    </tr>\n",
       "    <tr>\n",
       "      <th>2</th>\n",
       "      <td>tm203186</td>\n",
       "      <td>Children of Shatila</td>\n",
       "      <td>MOVIE</td>\n",
       "      <td>Before 2012</td>\n",
       "      <td>Not Rated</td>\n",
       "      <td>50</td>\n",
       "      <td>['documentation', 'history']</td>\n",
       "      <td>['LB']</td>\n",
       "      <td>0.0</td>\n",
       "      <td>8.100000</td>\n",
       "      <td>78.0</td>\n",
       "      <td>1.635</td>\n",
       "      <td>6.700</td>\n",
       "    </tr>\n",
       "    <tr>\n",
       "      <th>3</th>\n",
       "      <td>tm441198</td>\n",
       "      <td>The Princess Switch</td>\n",
       "      <td>MOVIE</td>\n",
       "      <td>2018</td>\n",
       "      <td>PG</td>\n",
       "      <td>101</td>\n",
       "      <td>['romance', 'drama', 'family', 'comedy']</td>\n",
       "      <td>['US']</td>\n",
       "      <td>0.0</td>\n",
       "      <td>6.000000</td>\n",
       "      <td>27852.0</td>\n",
       "      <td>24.268</td>\n",
       "      <td>7.037</td>\n",
       "    </tr>\n",
       "    <tr>\n",
       "      <th>4</th>\n",
       "      <td>tm983849</td>\n",
       "      <td>Vir Das: Outside in - The Lockdown Special</td>\n",
       "      <td>MOVIE</td>\n",
       "      <td>2020</td>\n",
       "      <td>Not Rated</td>\n",
       "      <td>50</td>\n",
       "      <td>['comedy']</td>\n",
       "      <td>[]</td>\n",
       "      <td>0.0</td>\n",
       "      <td>6.400000</td>\n",
       "      <td>269.0</td>\n",
       "      <td>3.077</td>\n",
       "      <td>6.800</td>\n",
       "    </tr>\n",
       "    <tr>\n",
       "      <th>...</th>\n",
       "      <td>...</td>\n",
       "      <td>...</td>\n",
       "      <td>...</td>\n",
       "      <td>...</td>\n",
       "      <td>...</td>\n",
       "      <td>...</td>\n",
       "      <td>...</td>\n",
       "      <td>...</td>\n",
       "      <td>...</td>\n",
       "      <td>...</td>\n",
       "      <td>...</td>\n",
       "      <td>...</td>\n",
       "      <td>...</td>\n",
       "    </tr>\n",
       "    <tr>\n",
       "      <th>5793</th>\n",
       "      <td>tm239676</td>\n",
       "      <td>Hush</td>\n",
       "      <td>MOVIE</td>\n",
       "      <td>2016</td>\n",
       "      <td>R</td>\n",
       "      <td>82</td>\n",
       "      <td>['horror', 'thriller']</td>\n",
       "      <td>['US']</td>\n",
       "      <td>0.0</td>\n",
       "      <td>6.600000</td>\n",
       "      <td>123667.0</td>\n",
       "      <td>20.608</td>\n",
       "      <td>6.700</td>\n",
       "    </tr>\n",
       "    <tr>\n",
       "      <th>5794</th>\n",
       "      <td>ts85170</td>\n",
       "      <td>Memories of the Alhambra</td>\n",
       "      <td>SHOW</td>\n",
       "      <td>2018</td>\n",
       "      <td>TV-MA</td>\n",
       "      <td>65</td>\n",
       "      <td>['scifi', 'drama', 'action', 'thriller', 'roma...</td>\n",
       "      <td>['KR']</td>\n",
       "      <td>1.0</td>\n",
       "      <td>7.800000</td>\n",
       "      <td>5537.0</td>\n",
       "      <td>12.047</td>\n",
       "      <td>7.900</td>\n",
       "    </tr>\n",
       "    <tr>\n",
       "      <th>5795</th>\n",
       "      <td>ts82085</td>\n",
       "      <td>Ainori Love Wagon: Asian Journey</td>\n",
       "      <td>SHOW</td>\n",
       "      <td>2017</td>\n",
       "      <td>Not Rated</td>\n",
       "      <td>30</td>\n",
       "      <td>['reality']</td>\n",
       "      <td>['JP']</td>\n",
       "      <td>2.0</td>\n",
       "      <td>6.800000</td>\n",
       "      <td>276.0</td>\n",
       "      <td>5.356</td>\n",
       "      <td>7.400</td>\n",
       "    </tr>\n",
       "    <tr>\n",
       "      <th>5796</th>\n",
       "      <td>tm325102</td>\n",
       "      <td>Puss in Book: Trapped in an Epic Tale</td>\n",
       "      <td>MOVIE</td>\n",
       "      <td>2017</td>\n",
       "      <td>G</td>\n",
       "      <td>23</td>\n",
       "      <td>['comedy', 'action', 'family', 'fantasy', 'ani...</td>\n",
       "      <td>['US']</td>\n",
       "      <td>0.0</td>\n",
       "      <td>6.510861</td>\n",
       "      <td>Not Voted</td>\n",
       "      <td>26.998</td>\n",
       "      <td>6.500</td>\n",
       "    </tr>\n",
       "    <tr>\n",
       "      <th>5797</th>\n",
       "      <td>tm359713</td>\n",
       "      <td>El Camino Christmas</td>\n",
       "      <td>MOVIE</td>\n",
       "      <td>2017</td>\n",
       "      <td>Not Rated</td>\n",
       "      <td>89</td>\n",
       "      <td>['comedy', 'drama', 'crime', 'western']</td>\n",
       "      <td>['US']</td>\n",
       "      <td>0.0</td>\n",
       "      <td>5.700000</td>\n",
       "      <td>8830.0</td>\n",
       "      <td>8.462</td>\n",
       "      <td>5.600</td>\n",
       "    </tr>\n",
       "  </tbody>\n",
       "</table>\n",
       "<p>5798 rows × 13 columns</p>\n",
       "</div>"
      ],
      "text/plain": [
       "            id                                       title   type  \\\n",
       "0      tm35463                                        Blow  MOVIE   \n",
       "1      ts55982                              Anne with an E   SHOW   \n",
       "2     tm203186                         Children of Shatila  MOVIE   \n",
       "3     tm441198                         The Princess Switch  MOVIE   \n",
       "4     tm983849  Vir Das: Outside in - The Lockdown Special  MOVIE   \n",
       "...        ...                                         ...    ...   \n",
       "5793  tm239676                                        Hush  MOVIE   \n",
       "5794   ts85170                    Memories of the Alhambra   SHOW   \n",
       "5795   ts82085            Ainori Love Wagon: Asian Journey   SHOW   \n",
       "5796  tm325102       Puss in Book: Trapped in an Epic Tale  MOVIE   \n",
       "5797  tm359713                         El Camino Christmas  MOVIE   \n",
       "\n",
       "     release_year        age  runtime  \\\n",
       "0     Before 2012          R      124   \n",
       "1            2017       TV-G       46   \n",
       "2     Before 2012  Not Rated       50   \n",
       "3            2018         PG      101   \n",
       "4            2020  Not Rated       50   \n",
       "...           ...        ...      ...   \n",
       "5793         2016          R       82   \n",
       "5794         2018      TV-MA       65   \n",
       "5795         2017  Not Rated       30   \n",
       "5796         2017          G       23   \n",
       "5797         2017  Not Rated       89   \n",
       "\n",
       "                                                 genres production_countries  \\\n",
       "0                                    ['crime', 'drama']               ['US']   \n",
       "1                                   ['drama', 'family']               ['CA']   \n",
       "2                          ['documentation', 'history']               ['LB']   \n",
       "3              ['romance', 'drama', 'family', 'comedy']               ['US']   \n",
       "4                                            ['comedy']                   []   \n",
       "...                                                 ...                  ...   \n",
       "5793                             ['horror', 'thriller']               ['US']   \n",
       "5794  ['scifi', 'drama', 'action', 'thriller', 'roma...               ['KR']   \n",
       "5795                                        ['reality']               ['JP']   \n",
       "5796  ['comedy', 'action', 'family', 'fantasy', 'ani...               ['US']   \n",
       "5797            ['comedy', 'drama', 'crime', 'western']               ['US']   \n",
       "\n",
       "      seasons  imdb_score imdb_votes  tmdb_popularity  tmdb_score  \n",
       "0         0.0    7.500000   258431.0           24.348       7.400  \n",
       "1         3.0    8.700000    52756.0          150.370       8.800  \n",
       "2         0.0    8.100000       78.0            1.635       6.700  \n",
       "3         0.0    6.000000    27852.0           24.268       7.037  \n",
       "4         0.0    6.400000      269.0            3.077       6.800  \n",
       "...       ...         ...        ...              ...         ...  \n",
       "5793      0.0    6.600000   123667.0           20.608       6.700  \n",
       "5794      1.0    7.800000     5537.0           12.047       7.900  \n",
       "5795      2.0    6.800000      276.0            5.356       7.400  \n",
       "5796      0.0    6.510861  Not Voted           26.998       6.500  \n",
       "5797      0.0    5.700000     8830.0            8.462       5.600  \n",
       "\n",
       "[5798 rows x 13 columns]"
      ]
     },
     "execution_count": 29,
     "metadata": {},
     "output_type": "execute_result"
    }
   ],
   "source": [
    "fg.select_all().read()"
   ]
  },
  {
   "cell_type": "code",
   "execution_count": 33,
   "id": "0cdf6ef2",
   "metadata": {},
   "outputs": [
    {
     "name": "stdout",
     "output_type": "stream",
     "text": [
      "2023-07-06 13:26:07,064 INFO: USE `unicorn_featurestore`\n",
      "2023-07-06 13:26:07,915 INFO: SELECT `fg0`.`id` `id`, `fg0`.`title` `title`, `fg0`.`type` `type`, `fg0`.`release_year` `release_year`, `fg0`.`age` `age`, `fg0`.`runtime` `runtime`, `fg0`.`genres` `genres`, `fg0`.`production_countries` `production_countries`, `fg0`.`seasons` `seasons`, `fg0`.`imdb_score` `imdb_score`, `fg0`.`imdb_votes` `imdb_votes`, `fg0`.`tmdb_popularity` `tmdb_popularity`, `fg0`.`tmdb_score` `tmdb_score`\n",
      "FROM `unicorn_featurestore`.`imdb_data_feature_1` `fg0`\n"
     ]
    },
    {
     "data": {
      "text/html": [
       "<div>\n",
       "<style scoped>\n",
       "    .dataframe tbody tr th:only-of-type {\n",
       "        vertical-align: middle;\n",
       "    }\n",
       "\n",
       "    .dataframe tbody tr th {\n",
       "        vertical-align: top;\n",
       "    }\n",
       "\n",
       "    .dataframe thead th {\n",
       "        text-align: right;\n",
       "    }\n",
       "</style>\n",
       "<table border=\"1\" class=\"dataframe\">\n",
       "  <thead>\n",
       "    <tr style=\"text-align: right;\">\n",
       "      <th></th>\n",
       "      <th>id</th>\n",
       "      <th>title</th>\n",
       "      <th>type</th>\n",
       "      <th>release_year</th>\n",
       "      <th>age</th>\n",
       "      <th>runtime</th>\n",
       "      <th>genres</th>\n",
       "      <th>production_countries</th>\n",
       "      <th>seasons</th>\n",
       "      <th>imdb_score</th>\n",
       "      <th>imdb_votes</th>\n",
       "      <th>tmdb_popularity</th>\n",
       "      <th>tmdb_score</th>\n",
       "    </tr>\n",
       "  </thead>\n",
       "  <tbody>\n",
       "    <tr>\n",
       "      <th>0</th>\n",
       "      <td>tm35463</td>\n",
       "      <td>Blow</td>\n",
       "      <td>MOVIE</td>\n",
       "      <td>Before 2012</td>\n",
       "      <td>R</td>\n",
       "      <td>124</td>\n",
       "      <td>['crime', 'drama']</td>\n",
       "      <td>['US']</td>\n",
       "      <td>0.0</td>\n",
       "      <td>7.500000</td>\n",
       "      <td>258431.0</td>\n",
       "      <td>24.348</td>\n",
       "      <td>7.400</td>\n",
       "    </tr>\n",
       "    <tr>\n",
       "      <th>1</th>\n",
       "      <td>ts55982</td>\n",
       "      <td>Anne with an E</td>\n",
       "      <td>SHOW</td>\n",
       "      <td>2017</td>\n",
       "      <td>TV-G</td>\n",
       "      <td>46</td>\n",
       "      <td>['drama', 'family']</td>\n",
       "      <td>['CA']</td>\n",
       "      <td>3.0</td>\n",
       "      <td>8.700000</td>\n",
       "      <td>52756.0</td>\n",
       "      <td>150.370</td>\n",
       "      <td>8.800</td>\n",
       "    </tr>\n",
       "    <tr>\n",
       "      <th>2</th>\n",
       "      <td>tm203186</td>\n",
       "      <td>Children of Shatila</td>\n",
       "      <td>MOVIE</td>\n",
       "      <td>Before 2012</td>\n",
       "      <td>Not Rated</td>\n",
       "      <td>50</td>\n",
       "      <td>['documentation', 'history']</td>\n",
       "      <td>['LB']</td>\n",
       "      <td>0.0</td>\n",
       "      <td>8.100000</td>\n",
       "      <td>78.0</td>\n",
       "      <td>1.635</td>\n",
       "      <td>6.700</td>\n",
       "    </tr>\n",
       "    <tr>\n",
       "      <th>3</th>\n",
       "      <td>tm441198</td>\n",
       "      <td>The Princess Switch</td>\n",
       "      <td>MOVIE</td>\n",
       "      <td>2018</td>\n",
       "      <td>PG</td>\n",
       "      <td>101</td>\n",
       "      <td>['romance', 'drama', 'family', 'comedy']</td>\n",
       "      <td>['US']</td>\n",
       "      <td>0.0</td>\n",
       "      <td>6.000000</td>\n",
       "      <td>27852.0</td>\n",
       "      <td>24.268</td>\n",
       "      <td>7.037</td>\n",
       "    </tr>\n",
       "    <tr>\n",
       "      <th>4</th>\n",
       "      <td>tm983849</td>\n",
       "      <td>Vir Das: Outside in - The Lockdown Special</td>\n",
       "      <td>MOVIE</td>\n",
       "      <td>2020</td>\n",
       "      <td>Not Rated</td>\n",
       "      <td>50</td>\n",
       "      <td>['comedy']</td>\n",
       "      <td>[]</td>\n",
       "      <td>0.0</td>\n",
       "      <td>6.400000</td>\n",
       "      <td>269.0</td>\n",
       "      <td>3.077</td>\n",
       "      <td>6.800</td>\n",
       "    </tr>\n",
       "    <tr>\n",
       "      <th>...</th>\n",
       "      <td>...</td>\n",
       "      <td>...</td>\n",
       "      <td>...</td>\n",
       "      <td>...</td>\n",
       "      <td>...</td>\n",
       "      <td>...</td>\n",
       "      <td>...</td>\n",
       "      <td>...</td>\n",
       "      <td>...</td>\n",
       "      <td>...</td>\n",
       "      <td>...</td>\n",
       "      <td>...</td>\n",
       "      <td>...</td>\n",
       "    </tr>\n",
       "    <tr>\n",
       "      <th>5793</th>\n",
       "      <td>tm239676</td>\n",
       "      <td>Hush</td>\n",
       "      <td>MOVIE</td>\n",
       "      <td>2016</td>\n",
       "      <td>R</td>\n",
       "      <td>82</td>\n",
       "      <td>['horror', 'thriller']</td>\n",
       "      <td>['US']</td>\n",
       "      <td>0.0</td>\n",
       "      <td>6.600000</td>\n",
       "      <td>123667.0</td>\n",
       "      <td>20.608</td>\n",
       "      <td>6.700</td>\n",
       "    </tr>\n",
       "    <tr>\n",
       "      <th>5794</th>\n",
       "      <td>ts85170</td>\n",
       "      <td>Memories of the Alhambra</td>\n",
       "      <td>SHOW</td>\n",
       "      <td>2018</td>\n",
       "      <td>TV-MA</td>\n",
       "      <td>65</td>\n",
       "      <td>['scifi', 'drama', 'action', 'thriller', 'roma...</td>\n",
       "      <td>['KR']</td>\n",
       "      <td>1.0</td>\n",
       "      <td>7.800000</td>\n",
       "      <td>5537.0</td>\n",
       "      <td>12.047</td>\n",
       "      <td>7.900</td>\n",
       "    </tr>\n",
       "    <tr>\n",
       "      <th>5795</th>\n",
       "      <td>ts82085</td>\n",
       "      <td>Ainori Love Wagon: Asian Journey</td>\n",
       "      <td>SHOW</td>\n",
       "      <td>2017</td>\n",
       "      <td>Not Rated</td>\n",
       "      <td>30</td>\n",
       "      <td>['reality']</td>\n",
       "      <td>['JP']</td>\n",
       "      <td>2.0</td>\n",
       "      <td>6.800000</td>\n",
       "      <td>276.0</td>\n",
       "      <td>5.356</td>\n",
       "      <td>7.400</td>\n",
       "    </tr>\n",
       "    <tr>\n",
       "      <th>5796</th>\n",
       "      <td>tm325102</td>\n",
       "      <td>Puss in Book: Trapped in an Epic Tale</td>\n",
       "      <td>MOVIE</td>\n",
       "      <td>2017</td>\n",
       "      <td>G</td>\n",
       "      <td>23</td>\n",
       "      <td>['comedy', 'action', 'family', 'fantasy', 'ani...</td>\n",
       "      <td>['US']</td>\n",
       "      <td>0.0</td>\n",
       "      <td>6.510861</td>\n",
       "      <td>Not Voted</td>\n",
       "      <td>26.998</td>\n",
       "      <td>6.500</td>\n",
       "    </tr>\n",
       "    <tr>\n",
       "      <th>5797</th>\n",
       "      <td>tm359713</td>\n",
       "      <td>El Camino Christmas</td>\n",
       "      <td>MOVIE</td>\n",
       "      <td>2017</td>\n",
       "      <td>Not Rated</td>\n",
       "      <td>89</td>\n",
       "      <td>['comedy', 'drama', 'crime', 'western']</td>\n",
       "      <td>['US']</td>\n",
       "      <td>0.0</td>\n",
       "      <td>5.700000</td>\n",
       "      <td>8830.0</td>\n",
       "      <td>8.462</td>\n",
       "      <td>5.600</td>\n",
       "    </tr>\n",
       "  </tbody>\n",
       "</table>\n",
       "<p>5798 rows × 13 columns</p>\n",
       "</div>"
      ],
      "text/plain": [
       "            id                                       title   type  \\\n",
       "0      tm35463                                        Blow  MOVIE   \n",
       "1      ts55982                              Anne with an E   SHOW   \n",
       "2     tm203186                         Children of Shatila  MOVIE   \n",
       "3     tm441198                         The Princess Switch  MOVIE   \n",
       "4     tm983849  Vir Das: Outside in - The Lockdown Special  MOVIE   \n",
       "...        ...                                         ...    ...   \n",
       "5793  tm239676                                        Hush  MOVIE   \n",
       "5794   ts85170                    Memories of the Alhambra   SHOW   \n",
       "5795   ts82085            Ainori Love Wagon: Asian Journey   SHOW   \n",
       "5796  tm325102       Puss in Book: Trapped in an Epic Tale  MOVIE   \n",
       "5797  tm359713                         El Camino Christmas  MOVIE   \n",
       "\n",
       "     release_year        age  runtime  \\\n",
       "0     Before 2012          R      124   \n",
       "1            2017       TV-G       46   \n",
       "2     Before 2012  Not Rated       50   \n",
       "3            2018         PG      101   \n",
       "4            2020  Not Rated       50   \n",
       "...           ...        ...      ...   \n",
       "5793         2016          R       82   \n",
       "5794         2018      TV-MA       65   \n",
       "5795         2017  Not Rated       30   \n",
       "5796         2017          G       23   \n",
       "5797         2017  Not Rated       89   \n",
       "\n",
       "                                                 genres production_countries  \\\n",
       "0                                    ['crime', 'drama']               ['US']   \n",
       "1                                   ['drama', 'family']               ['CA']   \n",
       "2                          ['documentation', 'history']               ['LB']   \n",
       "3              ['romance', 'drama', 'family', 'comedy']               ['US']   \n",
       "4                                            ['comedy']                   []   \n",
       "...                                                 ...                  ...   \n",
       "5793                             ['horror', 'thriller']               ['US']   \n",
       "5794  ['scifi', 'drama', 'action', 'thriller', 'roma...               ['KR']   \n",
       "5795                                        ['reality']               ['JP']   \n",
       "5796  ['comedy', 'action', 'family', 'fantasy', 'ani...               ['US']   \n",
       "5797            ['comedy', 'drama', 'crime', 'western']               ['US']   \n",
       "\n",
       "      seasons  imdb_score imdb_votes  tmdb_popularity  tmdb_score  \n",
       "0         0.0    7.500000   258431.0           24.348       7.400  \n",
       "1         3.0    8.700000    52756.0          150.370       8.800  \n",
       "2         0.0    8.100000       78.0            1.635       6.700  \n",
       "3         0.0    6.000000    27852.0           24.268       7.037  \n",
       "4         0.0    6.400000      269.0            3.077       6.800  \n",
       "...       ...         ...        ...              ...         ...  \n",
       "5793      0.0    6.600000   123667.0           20.608       6.700  \n",
       "5794      1.0    7.800000     5537.0           12.047       7.900  \n",
       "5795      2.0    6.800000      276.0            5.356       7.400  \n",
       "5796      0.0    6.510861  Not Voted           26.998       6.500  \n",
       "5797      0.0    5.700000     8830.0            8.462       5.600  \n",
       "\n",
       "[5798 rows x 13 columns]"
      ]
     },
     "execution_count": 33,
     "metadata": {},
     "output_type": "execute_result"
    }
   ],
   "source": [
    "fg.read()"
   ]
  },
  {
   "cell_type": "code",
   "execution_count": 23,
   "id": "7493e659",
   "metadata": {},
   "outputs": [
    {
     "name": "stdout",
     "output_type": "stream",
     "text": [
      "2023-07-07 12:33:32,473 INFO: USE `unicorn_featurestore`\n",
      "2023-07-07 12:33:33,308 INFO: SELECT `fg0`.`id` `id`, `fg0`.`title` `title`, `fg0`.`type` `type`, `fg0`.`release_year` `release_year`, `fg0`.`age` `age`, `fg0`.`runtime` `runtime`, `fg0`.`genres` `genres`, `fg0`.`production_countries` `production_countries`, `fg0`.`seasons` `seasons`, `fg0`.`imdb_score` `imdb_score`, `fg0`.`imdb_votes` `imdb_votes`, `fg0`.`tmdb_popularity` `tmdb_popularity`, `fg0`.`tmdb_score` `tmdb_score`\n",
      "FROM `unicorn_featurestore`.`imdb_data_feature_1` `fg0`\n"
     ]
    },
    {
     "data": {
      "text/html": [
       "<div>\n",
       "<style scoped>\n",
       "    .dataframe tbody tr th:only-of-type {\n",
       "        vertical-align: middle;\n",
       "    }\n",
       "\n",
       "    .dataframe tbody tr th {\n",
       "        vertical-align: top;\n",
       "    }\n",
       "\n",
       "    .dataframe thead th {\n",
       "        text-align: right;\n",
       "    }\n",
       "</style>\n",
       "<table border=\"1\" class=\"dataframe\">\n",
       "  <thead>\n",
       "    <tr style=\"text-align: right;\">\n",
       "      <th></th>\n",
       "      <th>id</th>\n",
       "      <th>title</th>\n",
       "      <th>type</th>\n",
       "      <th>release_year</th>\n",
       "      <th>age</th>\n",
       "      <th>runtime</th>\n",
       "      <th>genres</th>\n",
       "      <th>production_countries</th>\n",
       "      <th>seasons</th>\n",
       "      <th>imdb_score</th>\n",
       "      <th>imdb_votes</th>\n",
       "      <th>tmdb_popularity</th>\n",
       "      <th>tmdb_score</th>\n",
       "    </tr>\n",
       "  </thead>\n",
       "  <tbody>\n",
       "    <tr>\n",
       "      <th>0</th>\n",
       "      <td>tm35463</td>\n",
       "      <td>Blow</td>\n",
       "      <td>MOVIE</td>\n",
       "      <td>Before 2012</td>\n",
       "      <td>R</td>\n",
       "      <td>124</td>\n",
       "      <td>['crime', 'drama']</td>\n",
       "      <td>['US']</td>\n",
       "      <td>0.0</td>\n",
       "      <td>7.5</td>\n",
       "      <td>258431.0</td>\n",
       "      <td>24.348</td>\n",
       "      <td>7.400</td>\n",
       "    </tr>\n",
       "    <tr>\n",
       "      <th>1</th>\n",
       "      <td>ts55982</td>\n",
       "      <td>Anne with an E</td>\n",
       "      <td>SHOW</td>\n",
       "      <td>2017</td>\n",
       "      <td>TV-G</td>\n",
       "      <td>46</td>\n",
       "      <td>['drama', 'family']</td>\n",
       "      <td>['CA']</td>\n",
       "      <td>3.0</td>\n",
       "      <td>8.7</td>\n",
       "      <td>52756.0</td>\n",
       "      <td>150.370</td>\n",
       "      <td>8.800</td>\n",
       "    </tr>\n",
       "    <tr>\n",
       "      <th>2</th>\n",
       "      <td>tm203186</td>\n",
       "      <td>Children of Shatila</td>\n",
       "      <td>MOVIE</td>\n",
       "      <td>Before 2012</td>\n",
       "      <td>Not Rated</td>\n",
       "      <td>50</td>\n",
       "      <td>['documentation', 'history']</td>\n",
       "      <td>['LB']</td>\n",
       "      <td>0.0</td>\n",
       "      <td>8.1</td>\n",
       "      <td>78.0</td>\n",
       "      <td>1.635</td>\n",
       "      <td>6.700</td>\n",
       "    </tr>\n",
       "    <tr>\n",
       "      <th>3</th>\n",
       "      <td>tm441198</td>\n",
       "      <td>The Princess Switch</td>\n",
       "      <td>MOVIE</td>\n",
       "      <td>2018</td>\n",
       "      <td>PG</td>\n",
       "      <td>101</td>\n",
       "      <td>['romance', 'drama', 'family', 'comedy']</td>\n",
       "      <td>['US']</td>\n",
       "      <td>0.0</td>\n",
       "      <td>6.0</td>\n",
       "      <td>27852.0</td>\n",
       "      <td>24.268</td>\n",
       "      <td>7.037</td>\n",
       "    </tr>\n",
       "  </tbody>\n",
       "</table>\n",
       "</div>"
      ],
      "text/plain": [
       "         id                title   type release_year        age  runtime  \\\n",
       "0   tm35463                 Blow  MOVIE  Before 2012          R      124   \n",
       "1   ts55982       Anne with an E   SHOW         2017       TV-G       46   \n",
       "2  tm203186  Children of Shatila  MOVIE  Before 2012  Not Rated       50   \n",
       "3  tm441198  The Princess Switch  MOVIE         2018         PG      101   \n",
       "\n",
       "                                     genres production_countries  seasons  \\\n",
       "0                        ['crime', 'drama']               ['US']      0.0   \n",
       "1                       ['drama', 'family']               ['CA']      3.0   \n",
       "2              ['documentation', 'history']               ['LB']      0.0   \n",
       "3  ['romance', 'drama', 'family', 'comedy']               ['US']      0.0   \n",
       "\n",
       "   imdb_score imdb_votes  tmdb_popularity  tmdb_score  \n",
       "0         7.5   258431.0           24.348       7.400  \n",
       "1         8.7    52756.0          150.370       8.800  \n",
       "2         8.1       78.0            1.635       6.700  \n",
       "3         6.0    27852.0           24.268       7.037  "
      ]
     },
     "execution_count": 23,
     "metadata": {},
     "output_type": "execute_result"
    }
   ],
   "source": [
    "fg.show(4)"
   ]
  },
  {
   "cell_type": "code",
   "execution_count": null,
   "id": "c5f61686",
   "metadata": {},
   "outputs": [],
   "source": []
  },
  {
   "cell_type": "code",
   "execution_count": 24,
   "id": "bdbbe500",
   "metadata": {},
   "outputs": [],
   "source": [
    "import seaborn as sns\n",
    "import matplotlib.pyplot as plt"
   ]
  },
  {
   "cell_type": "code",
   "execution_count": 25,
   "id": "d87992c5",
   "metadata": {},
   "outputs": [
    {
     "data": {
      "text/plain": [
       "<Axes: xlabel='type', ylabel='count'>"
      ]
     },
     "execution_count": 25,
     "metadata": {},
     "output_type": "execute_result"
    },
    {
     "data": {
      "image/png": "[encoded data removed]",
      "text/plain": [
       "<Figure size 640x480 with 1 Axes>"
      ]
     },
     "metadata": {},
     "output_type": "display_data"
    }
   ],
   "source": [
    "sns.countplot(x='type',data=df)"
   ]
  },
  {
   "cell_type": "code",
   "execution_count": 26,
   "id": "bbc0cc52",
   "metadata": {},
   "outputs": [
    {
     "data": {
      "text/plain": [
       "<Axes: xlabel='type', ylabel='imdb_score'>"
      ]
     },
     "execution_count": 26,
     "metadata": {},
     "output_type": "execute_result"
    },
    {
     "data": {
      "image/png": "[encoded data removed]",
      "text/plain": [
       "<Figure size 640x480 with 1 Axes>"
      ]
     },
     "metadata": {},
     "output_type": "display_data"
    }
   ],
   "source": [
    "sns.barplot(x=\"type\",y=\"imdb_score\",data=df)"
   ]
  },
  {
   "cell_type": "code",
   "execution_count": 27,
   "id": "587cd556",
   "metadata": {},
   "outputs": [
    {
     "data": {
      "image/png": "[encoded data removed]",
      "text/plain": [
       "<Figure size 640x480 with 1 Axes>"
      ]
     },
     "metadata": {},
     "output_type": "display_data"
    }
   ],
   "source": [
    "sns.countplot(x=\"age\",data=df)\n",
    "plt.xticks(rotation=90)\n",
    "plt.show()"
   ]
  },
  {
   "cell_type": "code",
   "execution_count": 28,
   "id": "71d6d512",
   "metadata": {},
   "outputs": [
    {
     "data": {
      "image/png": "[encoded data removed]",
      "text/plain": [
       "<Figure size 640x480 with 1 Axes>"
      ]
     },
     "metadata": {},
     "output_type": "display_data"
    }
   ],
   "source": [
    "sns.countplot(x=\"release_year\",data=df)\n",
    "plt.xticks(rotation=90)\n",
    "plt.show()"
   ]
  },
  {
   "cell_type": "code",
   "execution_count": 32,
   "id": "0fd73f6b",
   "metadata": {},
   "outputs": [
    {
     "name": "stdout",
     "output_type": "stream",
     "text": [
      "2023-07-07 12:37:15,554 INFO: USE `unicorn_featurestore`\n",
      "2023-07-07 12:37:16,369 INFO: SELECT `fg0`.`id` `id`, `fg0`.`title` `title`, `fg0`.`type` `type`, `fg0`.`release_year` `release_year`, `fg0`.`age` `age`, `fg0`.`runtime` `runtime`, `fg0`.`genres` `genres`, `fg0`.`production_countries` `production_countries`, `fg0`.`seasons` `seasons`, `fg0`.`imdb_score` `imdb_score`, `fg0`.`imdb_votes` `imdb_votes`, `fg0`.`tmdb_popularity` `tmdb_popularity`, `fg0`.`tmdb_score` `tmdb_score`\n",
      "FROM `unicorn_featurestore`.`imdb_data_feature_1` `fg0`\n",
      "WHERE `fg0`.`release_year` >= '2016'\n"
     ]
    }
   ],
   "source": [
    "# Let's filter the feature group and then use filtered data to build plots. \n",
    "# For example you can filter your FG to have only movies and shows with release_year >= 2015 and then use this retrieved data to build plots\n",
    "\n",
    "\n",
    "df_filtered_year = fg.filter(fg.release_year >= 2016).read()"
   ]
  },
  {
   "cell_type": "code",
   "execution_count": 45,
   "id": "1e66cc68",
   "metadata": {},
   "outputs": [
    {
     "data": {
      "text/plain": [
       "<Axes: xlabel='type', ylabel='count'>"
      ]
     },
     "execution_count": 45,
     "metadata": {},
     "output_type": "execute_result"
    },
    {
     "data": {
      "image/png": "[encoded data removed]",
      "text/plain": [
       "<Figure size 640x480 with 1 Axes>"
      ]
     },
     "metadata": {},
     "output_type": "display_data"
    }
   ],
   "source": [
    "sns.countplot(x='type',data=df_filtered_year)"
   ]
  },
  {
   "cell_type": "code",
   "execution_count": 46,
   "id": "6c076718",
   "metadata": {},
   "outputs": [
    {
     "data": {
      "text/plain": [
       "<Axes: xlabel='release_year', ylabel='count'>"
      ]
     },
     "execution_count": 46,
     "metadata": {},
     "output_type": "execute_result"
    },
    {
     "data": {
      "image/png": "[encoded data removed]",
      "text/plain": [
       "<Figure size 640x480 with 1 Axes>"
      ]
     },
     "metadata": {},
     "output_type": "display_data"
    }
   ],
   "source": [
    "sns.countplot(x=\"release_year\",data=df_filtered_year)"
   ]
  },
  {
   "cell_type": "code",
   "execution_count": null,
   "id": "8ba5e04d",
   "metadata": {},
   "outputs": [],
   "source": []
  },
  {
   "cell_type": "code",
   "execution_count": null,
   "id": "65e66028",
   "metadata": {},
   "outputs": [],
   "source": []
  },
  {
   "cell_type": "code",
   "execution_count": null,
   "id": "945699bd",
   "metadata": {},
   "outputs": [],
   "source": []
  },
  {
   "cell_type": "code",
   "execution_count": null,
   "id": "8fb63353",
   "metadata": {},
   "outputs": [],
   "source": []
  }
 ],
 "metadata": {
  "kernelspec": {
   "display_name": "Python 3 (ipykernel)",
   "language": "python",
   "name": "python3"
  },
  "language_info": {
   "codemirror_mode": {
    "name": "ipython",
    "version": 3
   },
   "file_extension": ".py",
   "mimetype": "text/x-python",
   "name": "python",
   "nbconvert_exporter": "python",
   "pygments_lexer": "ipython3",
   "version": "3.9.9"
  }
 },
 "nbformat": 4,
 "nbformat_minor": 5
}
